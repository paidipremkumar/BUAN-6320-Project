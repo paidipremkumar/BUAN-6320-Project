{
 "cells": [
  {
   "cell_type": "code",
   "execution_count": 4,
   "id": "9ddded4a",
   "metadata": {},
   "outputs": [],
   "source": [
    "#Data Analyses Libraries\n",
    "import pandas as pd                \n",
    "import numpy as np    \n",
    "from urllib.request import urlopen\n",
    "import json\n",
    "import glob\n",
    "import os\n",
    "\n",
    "#Importing Data plotting libraries\n",
    "import matplotlib.pyplot as plt     \n",
    "import plotly.express as px       \n",
    "import plotly.offline as py       \n",
    "import seaborn as sns             \n",
    "import plotly.graph_objects as go \n",
    "from plotly.subplots import make_subplots\n",
    "import matplotlib.ticker as ticker\n",
    "import matplotlib.animation as animation\n",
    "\n",
    "#Other Miscallaneous Libraries\n",
    "import warnings\n",
    "warnings.filterwarnings('ignore')\n",
    "from IPython.display import HTML\n",
    "import matplotlib.colors as mc\n",
    "import colorsys\n",
    "from random import randint\n",
    "import re\n",
    "import csv\n",
    "import seaborn as sns"
   ]
  },
  {
   "cell_type": "code",
   "execution_count": 5,
   "id": "85a119af",
   "metadata": {},
   "outputs": [],
   "source": [
    "#Reading the cumulative cases dataset\n",
    "covid_cases = pd.read_csv('tesing_dataset.csv')\n",
    "\n",
    "#Viewing the dataset\n",
    "covid_cases.head()\n",
    "df_out = covid_cases.describe()\n",
    "df_out.to_csv(\"output.csv\")"
   ]
  },
  {
   "cell_type": "code",
   "execution_count": 6,
   "id": "829734e0",
   "metadata": {},
   "outputs": [
    {
     "name": "stdout",
     "output_type": "stream",
     "text": [
      "                     cases    deaths       lat       lon  total_population  \\\n",
      "cases             1.000000  0.779383 -0.055813  0.016699          0.745575   \n",
      "deaths            0.779383  1.000000 -0.005333  0.057830          0.631016   \n",
      "lat              -0.055813 -0.005333  1.000000 -0.268441         -0.050302   \n",
      "lon               0.016699  0.057830 -0.268441  1.000000         -0.015284   \n",
      "total_population  0.745575  0.631016 -0.050302 -0.015284          1.000000   \n",
      "...                    ...       ...       ...       ...               ...   \n",
      "min_temp_15d_avg  0.039270  0.029321 -0.513008  0.188313          0.041801   \n",
      "dewpoint_3d_avg  -0.001068  0.011048 -0.422390  0.294492         -0.001186   \n",
      "dewpoint_5d_avg   0.000612  0.011661 -0.433742  0.302403         -0.001672   \n",
      "dewpoint_10d_avg  0.004066  0.012657 -0.450895  0.314511         -0.002895   \n",
      "dewpoint_15d_avg  0.007168  0.013515 -0.459428  0.320485         -0.004167   \n",
      "\n",
      "                  area_sqmi  population_density_per_sqmi  num_deaths  \\\n",
      "cases              0.020906                     0.456909    0.729114   \n",
      "deaths             0.001189                     0.594185    0.597325   \n",
      "lat                0.248089                    -0.001543   -0.062652   \n",
      "lon               -0.369932                     0.122354   -0.006293   \n",
      "total_population   0.031378                     0.524043    0.976867   \n",
      "...                     ...                          ...         ...   \n",
      "min_temp_15d_avg  -0.126689                     0.027907    0.050525   \n",
      "dewpoint_3d_avg   -0.156723                     0.022687    0.001689   \n",
      "dewpoint_5d_avg   -0.161055                     0.022997    0.001258   \n",
      "dewpoint_10d_avg  -0.167954                     0.023124    0.000131   \n",
      "dewpoint_15d_avg  -0.171260                     0.022648   -0.001096   \n",
      "\n",
      "                  years_of_potential_life_lost_rate  \\\n",
      "cases                                     -0.118015   \n",
      "deaths                                    -0.080618   \n",
      "lat                                       -0.300083   \n",
      "lon                                        0.102087   \n",
      "total_population                          -0.185993   \n",
      "...                                             ...   \n",
      "min_temp_15d_avg                           0.175541   \n",
      "dewpoint_3d_avg                            0.186932   \n",
      "dewpoint_5d_avg                            0.192763   \n",
      "dewpoint_10d_avg                           0.201918   \n",
      "dewpoint_15d_avg                           0.207144   \n",
      "\n",
      "                  percent_fair_or_poor_health  ...  max_temp_10d_avg  \\\n",
      "cases                               -0.022943  ...          0.018957   \n",
      "deaths                              -0.019993  ...          0.013379   \n",
      "lat                                 -0.542817  ...         -0.454760   \n",
      "lon                                  0.103708  ...          0.023011   \n",
      "total_population                    -0.080382  ...          0.025363   \n",
      "...                                       ...  ...               ...   \n",
      "min_temp_15d_avg                     0.303333  ...          0.876786   \n",
      "dewpoint_3d_avg                      0.277143  ...          0.734047   \n",
      "dewpoint_5d_avg                      0.285094  ...          0.749848   \n",
      "dewpoint_10d_avg                     0.297194  ...          0.768973   \n",
      "dewpoint_15d_avg                     0.303517  ...          0.761204   \n",
      "\n",
      "                  max_temp_15d_avg  min_temp_3d_avg  min_temp_5d_avg  \\\n",
      "cases                     0.024208         0.027078         0.029540   \n",
      "deaths                    0.014731         0.025405         0.026354   \n",
      "lat                      -0.466375        -0.471093        -0.483225   \n",
      "lon                       0.021495         0.176400         0.180294   \n",
      "total_population          0.024953         0.040887         0.041446   \n",
      "...                            ...              ...              ...   \n",
      "min_temp_15d_avg          0.890115         0.940407         0.960856   \n",
      "dewpoint_3d_avg           0.722295         0.920453         0.914926   \n",
      "dewpoint_5d_avg           0.739675         0.916519         0.925096   \n",
      "dewpoint_10d_avg          0.765501         0.894841         0.911723   \n",
      "dewpoint_15d_avg          0.773892         0.873619         0.892765   \n",
      "\n",
      "                  min_temp_10d_avg  min_temp_15d_avg  dewpoint_3d_avg  \\\n",
      "cases                     0.034751          0.039270        -0.001068   \n",
      "deaths                    0.027987          0.029321         0.011048   \n",
      "lat                      -0.502561         -0.513008        -0.422390   \n",
      "lon                       0.185798          0.188313         0.294492   \n",
      "total_population          0.042080          0.041801        -0.001186   \n",
      "...                            ...               ...              ...   \n",
      "min_temp_15d_avg          0.990467          1.000000         0.868628   \n",
      "dewpoint_3d_avg           0.891035          0.868628         1.000000   \n",
      "dewpoint_5d_avg           0.909337          0.889055         0.990887   \n",
      "dewpoint_10d_avg          0.928206          0.919152         0.961745   \n",
      "dewpoint_15d_avg          0.920385          0.929408         0.936597   \n",
      "\n",
      "                  dewpoint_5d_avg  dewpoint_10d_avg  dewpoint_15d_avg  \n",
      "cases                    0.000612          0.004066          0.007168  \n",
      "deaths                   0.011661          0.012657          0.013515  \n",
      "lat                     -0.433742         -0.450895         -0.459428  \n",
      "lon                      0.302403          0.314511          0.320485  \n",
      "total_population        -0.001672         -0.002895         -0.004167  \n",
      "...                           ...               ...               ...  \n",
      "min_temp_15d_avg         0.889055          0.919152          0.929408  \n",
      "dewpoint_3d_avg          0.990887          0.961745          0.936597  \n",
      "dewpoint_5d_avg          1.000000          0.980966          0.958027  \n",
      "dewpoint_10d_avg         0.980966          1.000000          0.989621  \n",
      "dewpoint_15d_avg         0.958027          0.989621          1.000000  \n",
      "\n",
      "[215 rows x 215 columns]\n"
     ]
    }
   ],
   "source": [
    "corr_data = covid_cases.drop(['fips','state','county'], axis=1)\n",
    "corr = corr_data.corr()\n",
    "print(corr)\n",
    "corr.to_csv(\"relations.csv\")"
   ]
  },
  {
   "cell_type": "code",
   "execution_count": 7,
   "id": "956c3c19",
   "metadata": {},
   "outputs": [
    {
     "name": "stdout",
     "output_type": "stream",
     "text": [
      "['deaths', 'total_population', 'num_deaths', 'average_number_of_physically_unhealthy_days', 'average_number_of_mentally_unhealthy_days', 'percent_smokers', 'num_alcohol_impaired_driving_deaths', 'num_driving_deaths', 'num_chlamydia_cases', 'teen_birth_rate', 'num_uninsured', 'num_primary_care_physicians', 'num_dentists', 'num_mental_health_providers', 'num_some_college', 'population', 'num_unemployed_CHR', 'labor_force', 'percent_children_in_poverty', 'twentieth_percentile_income', 'num_single_parent_households_CHR', 'num_households_CHR', 'num_associations', 'annual_average_violent_crimes', 'num_injury_deaths', 'injury_death_rate', 'severe_housing_cost_burden', 'num_workers_who_drive_alone', 'num_deaths_2', 'age_adjusted_death_rate', 'num_deaths_3', 'child_mortality_rate', 'num_deaths_4', 'infant_mortality_rate', 'percent_frequent_physical_distress', 'percent_frequent_mental_distress', 'num_hiv_cases', 'num_food_insecure', 'percent_food_insecure', 'num_limited_access', 'num_drug_overdose_deaths', 'num_motor_vehicle_deaths', 'num_uninsured_2', 'percent_uninsured_2', 'num_uninsured_3', 'percent_uninsured_3', 'average_grade_performance_2', 'median_household_income', 'percent_enrolled_in_free_or_reduced_lunch', 'homicide_rate', 'num_deaths_5', 'num_firearm_fatalities', 'firearm_fatalities_rate', 'num_homeowners', 'num_households_with_severe_cost_burden', 'percent_severe_housing_cost_burden', 'population_2', 'num_black', 'percent_black', 'num_american_indian_alaska_native', 'num_asian', 'num_hispanic', 'num_non_hispanic_white', 'num_not_proficient_in_english', 'percent_not_proficient_in_english', 'num_housing_units', 'num_households_CDC', 'num_below_poverty', 'num_unemployed_CDC', 'per_capita_income', 'num_no_highschool_diploma', 'num_age_65_and_older', 'num_age_17_and_younger', 'num_disabled', 'num_single_parent_households_CDC', 'num_minorities', 'num_limited_english_abilities', 'num_multi_unit_housing', 'num_mobile_homes', 'num_overcrowding', 'num_households_with_no_vehicle', 'num_institutionalized_in_group_quarters', 'percent_below_poverty', 'percent_no_highschool_diploma', 'percent_age_65_and_older', 'percent_age_17_and_younger', 'percent_limited_english_abilities', 'percent_overcrowding', 'percentile_rank_below_poverty', 'percentile_rank_unemployed', 'percentile_rank_per_capita_income', 'percentile_rank_no_highschool_diploma', 'percentile_rank_socioeconomic_theme', 'percentile_rank_age_65_and_older', 'percentile_rank_age_17_and_younger', 'percentile_rank_disabled', 'percentile_rank_single_parent_households', 'percentile_rank_household_comp_disability_theme', 'percentile_rank_minorities', 'percentile_rank_minority_status_and_language_theme', 'percentile_rank_multi_unit_housing', 'percentile_rank_mobile_homes', 'percentile_rank_no_vehicle', 'percentile_rank_social_vulnerability', 'min_temp', 'max_temp', 'dewpoint', 'max_wind_speed', 'wind_gust', 'mean_temp_3d_avg', 'mean_temp_5d_avg', 'mean_temp_10d_avg', 'mean_temp_15d_avg', 'max_temp_3d_avg', 'max_temp_5d_avg', 'max_temp_10d_avg', 'max_temp_15d_avg', 'min_temp_3d_avg', 'min_temp_5d_avg', 'min_temp_10d_avg', 'min_temp_15d_avg', 'dewpoint_3d_avg', 'dewpoint_5d_avg', 'dewpoint_10d_avg', 'dewpoint_15d_avg']\n"
     ]
    }
   ],
   "source": [
    "#column names with high correlation\n",
    "upper_tri = corr.where(np.triu(np.ones(corr.shape),k=1).astype(np.bool))\n",
    "to_drop = [column for column in upper_tri.columns if any(upper_tri[column] > 0.7)]\n",
    "print(to_drop)"
   ]
  },
  {
   "cell_type": "code",
   "execution_count": 8,
   "id": "f7b8bcfb",
   "metadata": {},
   "outputs": [],
   "source": [
    "x=corr[corr < 1].unstack().transpose().sort_values( ascending=False).drop_duplicates()\n",
    "y=pd.DataFrame(x)\n",
    "y.columns=[\"percent\"]\n",
    "y=y[abs(y['percent'])>0.8]\n",
    "y.to_csv('highest-correlation.csv')"
   ]
  },
  {
   "cell_type": "code",
   "execution_count": null,
   "id": "3c42a6ab",
   "metadata": {},
   "outputs": [],
   "source": []
  },
  {
   "cell_type": "code",
   "execution_count": 9,
   "id": "1feea309",
   "metadata": {},
   "outputs": [],
   "source": [
    "percent_missing = covid_cases.isnull().sum() * 100 / len(covid_cases)\n",
    "missing_value_df = pd.DataFrame({'column_name': covid_cases.columns,\n",
    "                                 'percent_missing': percent_missing})\n",
    "missing_df = missing_value_df[missing_value_df['percent_missing']>15]\n",
    "missing_df.to_csv(\"missing_values.csv\")"
   ]
  },
  {
   "cell_type": "code",
   "execution_count": null,
   "id": "7b34e21e",
   "metadata": {},
   "outputs": [],
   "source": [
    "sns.pairplot(corr_data, kind=\"scatter\")\n",
    "plt.show()"
   ]
  },
  {
   "cell_type": "code",
   "execution_count": null,
   "id": "56ce7b08",
   "metadata": {},
   "outputs": [],
   "source": [
    "corr_data = covid_cases.drop(['fips','state','county'], axis=1)\n",
    "\n",
    "#Converting the dataset to the correlation function\n",
    "corr = corr_data.corr()\n",
    "\n",
    "#Plotting a heatmap\n",
    "\n",
    "def heatmap(x, y, size,color):\n",
    "    fig, ax = plt.subplots(figsize=(20,10))\n",
    "    \n",
    "    # Mapping from column names to integer coordinates\n",
    "    x_labels = corr_data.columns\n",
    "    y_labels = corr_data.columns\n",
    "    x_to_num = {p[1]:p[0] for p in enumerate(x_labels)} \n",
    "    y_to_num = {p[1]:p[0] for p in enumerate(y_labels)} \n",
    "    \n",
    "    n_colors = 256 # Use 256 colors for the diverging color palette\n",
    "    palette = sns.cubehelix_palette(n_colors) # Create the palette\n",
    "    color_min, color_max = [-1, 1] # Range of values that will be mapped to the palette, i.e. min and max possible correlation\n",
    "\n",
    "    def value_to_color(val):\n",
    "        val_position = float((val - color_min)) / (color_max - color_min) # position of value in the input range, relative to the length of the input range\n",
    "        ind = int(val_position * (n_colors - 1)) # target index in the color palette\n",
    "        return palette[ind]\n",
    "\n",
    "    \n",
    "    ax.scatter(\n",
    "    x=x.map(x_to_num),\n",
    "    y=y.map(y_to_num),\n",
    "    s=size * 1000,\n",
    "    c=color.apply(value_to_color), # Vector of square color values, mapped to color palette\n",
    "    marker='s')\n",
    "    \n",
    "    # Show column labels on the axes\n",
    "    ax.set_xticks([x_to_num[v] for v in x_labels])\n",
    "    ax.set_xticklabels(x_labels, rotation=30, horizontalalignment='right')\n",
    "    ax.set_yticks([y_to_num[v] for v in y_labels])\n",
    "    ax.set_yticklabels(y_labels)\n",
    "    \n",
    "    \n",
    "    ax.set_xticks([t + 0.5 for t in ax.get_xticks()], minor=True)\n",
    "    ax.set_yticks([t + 0.5 for t in ax.get_yticks()], minor=True)\n",
    "    \n",
    "    ax.set_xlim([-0.5, max([v for v in x_to_num.values()]) + 0.5]) \n",
    "    ax.set_ylim([-0.5, max([v for v in y_to_num.values()]) + 0.5])\n",
    "    \n",
    "corr = pd.melt(corr.reset_index(), id_vars='index') \n",
    "ccorr_data = covid_cases.drop(['fips','state','county'], axis=1)orr.columns = ['x', 'y', 'value']\n",
    "heatmap(x=corr['x'],y=corr['y'],size=corr['value'].abs(),color=corr['value'])"
   ]
  },
  {
   "cell_type": "code",
   "execution_count": null,
   "id": "86402c7d",
   "metadata": {},
   "outputs": [],
   "source": [
    "df = covid_cases.drop(['date_recorded','date_stay_at_home_announced','date_stay_at_home_effective'],axis=1)\n",
    "fig = px.box(df, y=”fare_amount”)\n",
    "fig.show()"
   ]
  },
  {
   "cell_type": "code",
   "execution_count": null,
   "id": "707eb1b6",
   "metadata": {},
   "outputs": [],
   "source": []
  },
  {
   "cell_type": "code",
   "execution_count": null,
   "id": "eb35de3d",
   "metadata": {},
   "outputs": [],
   "source": [
    "# finding outlierws\n",
    "covid_cases= covid_cases.drop(['precip_flag','station_name'],axis=1)\n",
    "def find_outliers_IQR(df):\n",
    "    q1=df.quantile(0.25)\n",
    "    q3=df.quantile(0.75)\n",
    "    IQR=q3-q1\n",
    "    outliers = df[((df<(q1-1.5*IQR)) | (df>(q3+1.5*IQR)))]\n",
    "    return outliers\n",
    "for i in covid_cases.columns:\n",
    "    print(i,end=\"\")\n",
    "    print(find_outliers_IQR(covid_cases[i]))"
   ]
  },
  {
   "cell_type": "code",
   "execution_count": null,
   "id": "2c72ec64",
   "metadata": {},
   "outputs": [],
   "source": []
  },
  {
   "cell_type": "code",
   "execution_count": null,
   "id": "e186ad8c",
   "metadata": {},
   "outputs": [],
   "source": []
  },
  {
   "cell_type": "code",
   "execution_count": null,
   "id": "c59377f6",
   "metadata": {},
   "outputs": [],
   "source": []
  },
  {
   "cell_type": "code",
   "execution_count": null,
   "id": "4646b048",
   "metadata": {},
   "outputs": [],
   "source": []
  },
  {
   "cell_type": "code",
   "execution_count": null,
   "id": "d7cbf479",
   "metadata": {},
   "outputs": [],
   "source": []
  },
  {
   "cell_type": "code",
   "execution_count": null,
   "id": "fceab518",
   "metadata": {},
   "outputs": [],
   "source": []
  },
  {
   "cell_type": "code",
   "execution_count": null,
   "id": "5dfd6bc0",
   "metadata": {},
   "outputs": [],
   "source": []
  },
  {
   "cell_type": "code",
   "execution_count": null,
   "id": "7d80d063",
   "metadata": {},
   "outputs": [],
   "source": []
  },
  {
   "cell_type": "code",
   "execution_count": null,
   "id": "806a63d5",
   "metadata": {},
   "outputs": [],
   "source": []
  },
  {
   "cell_type": "code",
   "execution_count": null,
   "id": "052bf9bb",
   "metadata": {},
   "outputs": [],
   "source": []
  },
  {
   "cell_type": "code",
   "execution_count": null,
   "id": "3287bd93",
   "metadata": {},
   "outputs": [],
   "source": []
  },
  {
   "cell_type": "code",
   "execution_count": null,
   "id": "7b279963",
   "metadata": {},
   "outputs": [],
   "source": []
  }
 ],
 "metadata": {
  "kernelspec": {
   "display_name": "Python 3 (ipykernel)",
   "language": "python",
   "name": "python3"
  },
  "language_info": {
   "codemirror_mode": {
    "name": "ipython",
    "version": 3
   },
   "file_extension": ".py",
   "mimetype": "text/x-python",
   "name": "python",
   "nbconvert_exporter": "python",
   "pygments_lexer": "ipython3",
   "version": "3.9.7"
  }
 },
 "nbformat": 4,
 "nbformat_minor": 5
}
